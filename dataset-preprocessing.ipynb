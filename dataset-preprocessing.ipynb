{
 "cells": [
  {
   "cell_type": "markdown",
   "metadata": {},
   "source": [
    "# Song Hotness Predictor: Data Acquisition & Preprocessing\n",
    "\n",
    "In this notebook, we will:\n",
    "1. Download/Access the Million Song Dataset\n",
    "2. Load required libraries and the dataset\n",
    "3. Understand the dataset structure\n",
    "4. Preprocess the data (handle missing values, data imbalance, and perform feature scaling)."
   ]
  },
  {
   "cell_type": "code",
   "execution_count": null,
   "metadata": {},
   "outputs": [],
   "source": [
    "import os\n",
    "import pandas as pd\n",
    "import numpy as np\n",
    "import tarfile\n",
    "import requests\n",
    "from sklearn.preprocessing import StandardScaler\n",
    "from sklearn.impute import SimpleImputer\n",
    "from tqdm import tqdm"
   ]
  },
  {
   "cell_type": "markdown",
   "metadata": {},
   "source": [
    "## Step 1: Data Acquisition\n",
    "\n",
    "The Million Song Dataset (MSD) is very large, so here we demonstrate accessing a subset or a sample. We downloaded the dataset from their website: http://millionsongdataset.com/pages/getting-dataset/"
   ]
  },
  {
   "cell_type": "code",
   "execution_count": 2,
   "metadata": {},
   "outputs": [],
   "source": [
    "dataset_url = \"http://labrosa.ee.columbia.edu/~dpwe/tmp/millionsongsubset.tar.gz\"\n",
    "local_filename = \"millionsongsubset.tar.gz\"\n",
    "extraction_path = \"data\"\n"
   ]
  },
  {
   "cell_type": "code",
   "execution_count": 5,
   "metadata": {},
   "outputs": [
    {
     "name": "stderr",
     "output_type": "stream",
     "text": [
      "Downloading: 100%|██████████| 1.98G/1.98G [06:29<00:00, 5.09MiB/s]   \n"
     ]
    },
    {
     "name": "stdout",
     "output_type": "stream",
     "text": [
      "Download complete.\n",
      "Extraction complete. Files are available in: data\n"
     ]
    }
   ],
   "source": [
    "def download_dataset(url, filename):\n",
    "    # Download the dataset with a progress bar\n",
    "    response = requests.get(url, stream=True)\n",
    "    total_size = int(response.headers.get('content-length', 0))\n",
    "    block_size = 1024  # 1 Kilobyte\n",
    "\n",
    "    with open(filename, 'wb') as file, tqdm(\n",
    "        total=total_size, unit='iB', unit_scale=True, desc=\"Downloading\"\n",
    "    ) as bar:\n",
    "        for data in response.iter_content(block_size):\n",
    "            bar.update(len(data))\n",
    "            file.write(data)\n",
    "    # Check if file size matches expected size\n",
    "    actual_size = os.path.getsize(filename)\n",
    "    if actual_size < total_size:\n",
    "        raise Exception(\"Download incomplete: expected {} bytes but got {} bytes\".format(total_size, actual_size))\n",
    "    print(\"Download complete.\")\n",
    "\n",
    "# Download if file does not exist or if re-download is needed\n",
    "if not os.path.exists(local_filename):\n",
    "    try:\n",
    "        download_dataset(dataset_url, local_filename)\n",
    "    except Exception as e:\n",
    "        print(\"Error during download:\", e)\n",
    "        # Optionally, delete the incomplete file:\n",
    "        if os.path.exists(local_filename):\n",
    "            os.remove(local_filename)\n",
    "else:\n",
    "    print(\"Dataset already downloaded.\")\n",
    "\n",
    "# Extract the dataset\n",
    "if not os.path.exists(extraction_path):\n",
    "    os.makedirs(extraction_path, exist_ok=True)\n",
    "    try:\n",
    "        with tarfile.open(local_filename, \"r:gz\") as tar:\n",
    "            tar.extractall(path=extraction_path)\n",
    "        print(\"Extraction complete. Files are available in:\", extraction_path)\n",
    "    except (tarfile.TarError, EOFError) as e:\n",
    "        print(\"Error during extraction:\", e)\n",
    "        print(\"The archive may be corrupted. Consider re-downloading the file.\")\n",
    "else:\n",
    "    print(\"Dataset already extracted.\")\n"
   ]
  }
 ],
 "metadata": {
  "kernelspec": {
   "display_name": "venv",
   "language": "python",
   "name": "python3"
  },
  "language_info": {
   "codemirror_mode": {
    "name": "ipython",
    "version": 3
   },
   "file_extension": ".py",
   "mimetype": "text/x-python",
   "name": "python",
   "nbconvert_exporter": "python",
   "pygments_lexer": "ipython3",
   "version": "3.10.5"
  }
 },
 "nbformat": 4,
 "nbformat_minor": 2
}
